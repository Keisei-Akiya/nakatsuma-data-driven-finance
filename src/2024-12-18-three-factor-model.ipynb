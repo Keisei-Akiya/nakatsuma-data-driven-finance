{
 "cells": [
  {
   "cell_type": "markdown",
   "metadata": {},
   "source": [
    "# Fama-French Three-Factor Model\n",
    "\n",
    "$$\n",
    "R_i = \\beta_{i,0} + \\beta_{i,1} \\cdot R_{mkt} + \\beta_{i,2} \\cdot R_{smb} + \\beta_{i,3} \\cdot R_{hml} + \\epsilon_i\n",
    "$$\n",
    "\n",
    "\n",
    "## SMB\n",
    "\n",
    "$$\n",
    "R_{smb} = \\frac{1}{3} \\left( \\text{small value} + \\text{small neutral} + \\text{small growth} \\right) - \\frac{1}{3} \\left( \\text{big value} + \\text{big neutral} + \\text{big growth} \\right)\n",
    "$$\n",
    "\n",
    "上場企業を時価総額とPBRを使って分類する．\n",
    "それぞれ 1/6 ずつに分ける．\n",
    "\n",
    "| | value | neutral | growth |\n",
    "|---|---|---|---|\n",
    "| small | small value | small neutral | small growth |\n",
    "| big | big value | big neutral | big growth |\n",
    "\n",
    "\n",
    "## HML\n",
    "\n"
   ]
  },
  {
   "cell_type": "code",
   "execution_count": 1,
   "metadata": {},
   "outputs": [],
   "source": [
    "import pandas as pd\n",
    "import numpy as np"
   ]
  }
 ],
 "metadata": {
  "kernelspec": {
   "display_name": ".venv",
   "language": "python",
   "name": "python3"
  },
  "language_info": {
   "codemirror_mode": {
    "name": "ipython",
    "version": 3
   },
   "file_extension": ".py",
   "mimetype": "text/x-python",
   "name": "python",
   "nbconvert_exporter": "python",
   "pygments_lexer": "ipython3",
   "version": "3.12.6"
  }
 },
 "nbformat": 4,
 "nbformat_minor": 2
}
