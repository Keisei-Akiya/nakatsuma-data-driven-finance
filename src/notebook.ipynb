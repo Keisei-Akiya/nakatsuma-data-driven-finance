{
 "cells": [
  {
   "cell_type": "markdown",
   "metadata": {},
   "source": [
    "# 1. イントロダクション\n",
    "\n",
    "date: 2024-11-26"
   ]
  }
 ],
 "metadata": {
  "language_info": {
   "name": "python"
  }
 },
 "nbformat": 4,
 "nbformat_minor": 2
}
